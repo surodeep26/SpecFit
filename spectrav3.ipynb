{
 "cells": [
  {
   "cell_type": "markdown",
   "metadata": {},
   "source": [
    "## values\n",
    "HD12882: 1.5, 71, 23000, 3.25\n",
    "HD141413: 1, 46, 16000, 2.00\n",
    "HD190429: -20, 1, 86, 24000, 2.5\n",
    "HD190918: ???\n",
    "HD190919: -18, 1.5, 56, 26000, 3.00 (higher metallcity?)\n",
    "HD191495: -24, 1, 31, 30000, 96, 3.25\n",
    "HD191612: -28, 1 31, 30000, 3.50\n",
    "-- not found HD203437: -28, 1, 81, 15000 (lower), 3.75\n",
    "*HD206183: -14, 1, 41, 30000 (higher), 3.5\n",
    "-- not found HD206267: ???\n",
    "-- not found HD206773: ???\n",
    "HD211880: -20, 1, 51, 29000, 3.75\n",
    "HD217348: -16, 1, 86, 15000, 3.25\n",
    "HD217943: -10, 1, 96, 23000, 3.00\n",
    "HD218440: -4, 1, 86, 23000, 3.25 (blue normalization not good. SIMBAD spectroscopic binary)\n",
    "-- not found HD228007: -22, 1, 76, 28000, 4.50 \n",
    "HD228602: ???\n",
    "-- not found HD239729: -30, 1, 66, 30000, 3.50\n",
    "-- not found HD240113: ??? (redo the lines)\n",
    "(runaway Basel_8) HD259991: 14, 1, 121, 15000, 3.00\n",
    "HD36352: too cool B9.5V\n",
    "(runaway RSG-8) TYC3990-1510-1: -16, 1, 46, 15000*, 475? (lower temp., so logg uncertain too)\n"
   ]
  },
  {
   "cell_type": "code",
   "execution_count": 1,
   "metadata": {},
   "outputs": [],
   "source": [
    "%run spec_functionsv2\n",
    "%matplotlib qt\n",
    "# plot_spectrum_with_sliders('./observed_stars/vTYC3997-1510-1i.fits')\n"
   ]
  },
  {
   "cell_type": "code",
   "execution_count": 17,
   "metadata": {},
   "outputs": [
    {
     "name": "stderr",
     "output_type": "stream",
     "text": [
      "WARNING: FITSFixedWarning: RADECSYS= 'FK5 ' \n",
      "the RADECSYS keyword is deprecated, use RADESYSa. [astropy.wcs.wcs]\n",
      "WARNING: FITSFixedWarning: 'datfix' made the change 'Set MJD-OBS to 60190.993484 from DATE-OBS'. [astropy.wcs.wcs]\n"
     ]
    }
   ],
   "source": [
    "template = gaussian_smooth(template, 31)\n",
    "star = Spectrum1D.read('./observed_stars/vHD191495i.fits')\n",
    "\n",
    "from specutils.analysis import template_correlate\n",
    "te = Spec\n",
    "corr, lag = template_correlate(star, template)\n"
   ]
  },
  {
   "cell_type": "code",
   "execution_count": 18,
   "metadata": {},
   "outputs": [
    {
     "data": {
      "text/latex": [
       "$-4106.2686 \\; \\mathrm{\\frac{km}{s}}$"
      ],
      "text/plain": [
       "<Quantity -4106.26856063 km / s>"
      ]
     },
     "execution_count": 18,
     "metadata": {},
     "output_type": "execute_result"
    }
   ],
   "source": [
    "lag[np.argmax(corr)]"
   ]
  },
  {
   "cell_type": "code",
   "execution_count": 28,
   "metadata": {},
   "outputs": [
    {
     "data": {
      "text/plain": [
       "[<matplotlib.lines.Line2D at 0x157b9037d60>]"
      ]
     },
     "execution_count": 28,
     "metadata": {},
     "output_type": "execute_result"
    }
   ],
   "source": [
    "# plt.plot(star.spectral_axis, star.flux)\n",
    "template1 = Spectrum1D.read('./tlusty_baha/BGvispec_v2/tbg280g450v2.fits')\n",
    "template2 = Spectrum1D.read('./tlusty_baha/BGvispec_v2/BG28000g450v2.fits')\n",
    "\n",
    "plt.plot(template1.spectral_axis, template1.flux)\n",
    "plt.plot(template2.spectral_axis, template2.flux, alpha=0.5)"
   ]
  },
  {
   "cell_type": "code",
   "execution_count": 4,
   "metadata": {},
   "outputs": [
    {
     "data": {
      "text/plain": [
       "[<matplotlib.lines.Line2D at 0x20b6d3af610>]"
      ]
     },
     "execution_count": 4,
     "metadata": {},
     "output_type": "execute_result"
    }
   ],
   "source": [
    "temp1 = Spectrum1D.read('./Kuruczall/15000_2.50000_100.fits')\n",
    "temp2 = Spectrum1D.read('./norm_tlusty/15000g175v2.fits')\n",
    "\n",
    "plt.plot(temp1.spectral_axis, temp1.flux)"
   ]
  },
  {
   "cell_type": "code",
   "execution_count": 21,
   "metadata": {},
   "outputs": [],
   "source": [
    "def plot_spectrum(spec, smooth=None):\n",
    "    if smooth is None:\n",
    "        smooth = np.ones(len(spec))\n",
    "    spec_s = []\n",
    "    for _spec, _smooth in zip(spec, smooth):\n",
    "        spec_s.append(gaussian_smooth(_spec,_smooth))\n",
    "    plt.title(f'smooth : {smooth}')\n",
    "    plt.xlabel(r'Wavelength $\\AA$')\n",
    "    plt.ylabel(r'Flux')\n",
    "    for spectra in spec_s:\n",
    "        plt.plot(spectra.spectral_axis, spectra.flux)"
   ]
  },
  {
   "cell_type": "code",
   "execution_count": 22,
   "metadata": {},
   "outputs": [],
   "source": [
    "plot_spectrum([temp1,temp2])"
   ]
  }
 ],
 "metadata": {
  "kernelspec": {
   "display_name": "Python 3",
   "language": "python",
   "name": "python3"
  },
  "language_info": {
   "codemirror_mode": {
    "name": "ipython",
    "version": 3
   },
   "file_extension": ".py",
   "mimetype": "text/x-python",
   "name": "python",
   "nbconvert_exporter": "python",
   "pygments_lexer": "ipython3",
   "version": "3.10.9"
  }
 },
 "nbformat": 4,
 "nbformat_minor": 2
}
