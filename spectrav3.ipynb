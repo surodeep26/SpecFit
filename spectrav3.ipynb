{
 "cells": [
  {
   "cell_type": "markdown",
   "metadata": {},
   "source": [
    "# Kurucz models"
   ]
  },
  {
   "cell_type": "code",
   "execution_count": 32,
   "metadata": {},
   "outputs": [
    {
     "name": "stderr",
     "output_type": "stream",
     "text": [
      "No artists with labels found to put in legend.  Note that artists whose label start with an underscore are ignored when legend() is called with no argument.\n",
      "qt.qpa.wayland: Wayland does not support QWindow::requestActivate()\n"
     ]
    }
   ],
   "source": [
    "%run spec_functionsv2\n",
    "%matplotlib qt\n",
    "# plot_spectrum_with_sliders_k('./observed_stars/vHD259597i.fits')\n",
    "star = 'BD+622060'\n",
    "star = f'v{star}i'\n",
    "plot_spectrum_with_sliders_k(f'./observed_stars/{star}.fits')"
   ]
  },
  {
   "cell_type": "code",
   "execution_count": 52,
   "metadata": {},
   "outputs": [
    {
     "name": "stdout",
     "output_type": "stream",
     "text": [
      "A pdf for the star exists\n",
      "Deleted existing file: ./observed_stars/TYC3997-1510-1_Kurucz_T12000_g4.00.pdf\n",
      "Saved new file: ./observed_stars/TYC3997-1510-1_Kurucz_T12000_g4.00.pdf\n"
     ]
    }
   ],
   "source": [
    "%run spec_functionsv2\n",
    "%matplotlib qt\n",
    "\n",
    "starname = 'TYC3997-1510-1'\n",
    "\n",
    "star          = f'./observed_stars/v{starname}i.fits'\n",
    "T_template    = 12000\n",
    "logg_template = 4 #350 means logg=3.5\n",
    "\n",
    "\n",
    "temp0 = Spectrum1D.read(star)\n",
    "temp1 = Spectrum1D.read(f'./Kuruczall/{T_template}_{logg_template:.5f}.fits')\n",
    "plot = plot_spectrum([temp0, temp1],\n",
    "              [1,2],\n",
    "              labels=[f'{starname}', rf\"$T_{{eff}} = {T_template}$K\"+\"\\n\"+rf\"$log(g) = {logg_template:.2f}$\"],\n",
    "              xlims=(4000,5000),\n",
    "              save=f'{starname}_Kurucz_T{T_template:.0f}_g{logg_template:.2f}')"
   ]
  },
  {
   "cell_type": "markdown",
   "metadata": {},
   "source": [
    "# TLUSTY models"
   ]
  },
  {
   "cell_type": "code",
   "execution_count": null,
   "metadata": {},
   "outputs": [],
   "source": [
    "%run spec_functionsv2\n",
    "%matplotlib qt\n",
    "star = 'BD+6164'\n",
    "star = f'v{star}i'\n",
    "plot_spectrum_with_sliders(f'./observed_stars/{star}.fits')"
   ]
  },
  {
   "cell_type": "code",
   "execution_count": 57,
   "metadata": {},
   "outputs": [
    {
     "name": "stdout",
     "output_type": "stream",
     "text": [
      "A pdf for the star exists\n",
      "Deleted existing file: ./observed_stars/HD217348_TLUSTY_T30000_g425.pdf\n",
      "Saved new file: ./observed_stars/HD217348_TLUSTY_T30000_g425.pdf\n"
     ]
    }
   ],
   "source": [
    "%run spec_functionsv2\n",
    "%matplotlib qt\n",
    "\n",
    "starname = 'HD217348'\n",
    "\n",
    "star          = f'./observed_stars/v{starname}i.fits'\n",
    "T_template    = 30000\n",
    "logg_template = 4.25 #350 means logg=3.5\n",
    "flt = float(f'{logg_template}')*100\n",
    "logg_template= f'{flt:.0f}'\n",
    "logg_template\n",
    "\n",
    "temp0 = Spectrum1D.read(star)\n",
    "temp1 = Spectrum1D.read(f'./norm_tlusty/{T_template:.0f}g{logg_template}v2.fits')\n",
    "plot = plot_spectrum([temp0, temp1],\n",
    "              [1,40],\n",
    "              labels=[f'{starname}', rf\"$T_{{eff}} = {T_template}$K\"+\"\\n\"+rf\"$log(g) = {float(logg_template)/100:.2f}$\"],\n",
    "            #   xlims=(3900,5000),\n",
    "              save=f'{starname}_TLUSTY_T{T_template:.0f}_g{logg_template}')"
   ]
  }
 ],
 "metadata": {
  "kernelspec": {
   "display_name": "Python 3",
   "language": "python",
   "name": "python3"
  },
  "language_info": {
   "codemirror_mode": {
    "name": "ipython",
    "version": 3
   },
   "file_extension": ".py",
   "mimetype": "text/x-python",
   "name": "python",
   "nbconvert_exporter": "python",
   "pygments_lexer": "ipython3",
   "version": "3.11.6"
  }
 },
 "nbformat": 4,
 "nbformat_minor": 2
}
