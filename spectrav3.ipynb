{
 "cells": [
  {
   "cell_type": "markdown",
   "metadata": {},
   "source": [
    "# Kurucz models"
   ]
  },
  {
   "cell_type": "code",
   "execution_count": 29,
   "metadata": {},
   "outputs": [
    {
     "name": "stderr",
     "output_type": "stream",
     "text": [
      "No artists with labels found to put in legend.  Note that artists whose label start with an underscore are ignored when legend() is called with no argument.\n"
     ]
    }
   ],
   "source": [
    "%run spec_functionsv2\n",
    "%matplotlib qt\n",
    "# plot_spectrum_with_sliders_k('./observed_stars/vHD259597i.fits')\n",
    "star = 'HD35192A'\n",
    "star = f'v{star}i'\n",
    "plot_spectrum_with_sliders_k(f'./observed_stars/{star}.fits')"
   ]
  },
  {
   "cell_type": "code",
   "execution_count": 65,
   "metadata": {},
   "outputs": [
    {
     "name": "stdout",
     "output_type": "stream",
     "text": [
      "A pdf for the star exists\n",
      "Deleted existing file: ./observed_stars\\HD259787_Kurucz_T12000_g3.00.pdf\n",
      "Saved new file: ./observed_stars/HD259787_Kurucz_T12000_g3.00.pdf\n"
     ]
    }
   ],
   "source": [
    "%run spec_functionsv2\n",
    "%matplotlib qt\n",
    "\n",
    "starname = 'HD259787'\n",
    "\n",
    "star          = f'./observed_stars/v{starname}i.fits'\n",
    "T_template    = 12000\n",
    "logg_template = 3 #350 means logg=3.5\n",
    "\n",
    "\n",
    "temp0 = Spectrum1D.read(star)\n",
    "temp1 = Spectrum1D.read(f'./Kuruczall/{T_template}_{logg_template:.5f}.fits')\n",
    "plot = plot_spectrum([temp0, temp1],\n",
    "              [1,3],\n",
    "              labels=[f'{starname}', rf\"$T_{{eff}} = {T_template}$K\"+\"\\n\"+rf\"$log(g) = {logg_template}$\"],\n",
    "              xlims=(3900,5000),\n",
    "              save=f'{starname}_Kurucz_T{T_template:.0f}_g{logg_template:.2f}')"
   ]
  },
  {
   "cell_type": "markdown",
   "metadata": {},
   "source": [
    "# TLUSTY models"
   ]
  },
  {
   "cell_type": "code",
   "execution_count": null,
   "metadata": {},
   "outputs": [],
   "source": [
    "%run spec_functionsv2\n",
    "%matplotlib qt\n",
    "star = 'HD35192A'\n",
    "star = f'v{star}i'\n",
    "plot_spectrum_with_sliders(f'./observed_stars/{star}.fits')"
   ]
  },
  {
   "cell_type": "code",
   "execution_count": 60,
   "metadata": {},
   "outputs": [
    {
     "name": "stdout",
     "output_type": "stream",
     "text": [
      "A pdf for the star exists\n",
      "Deleted existing file: ./observed_stars\\HD259597_TLUSTY_T30000_g400.pdf\n",
      "Saved new file: ./observed_stars/HD259597_TLUSTY_T30000_g400.pdf\n"
     ]
    }
   ],
   "source": [
    "%run spec_functionsv2\n",
    "%matplotlib qt\n",
    "\n",
    "starname = 'HD259597'\n",
    "\n",
    "star          = f'./observed_stars/v{starname}i.fits'\n",
    "T_template    = 30000\n",
    "logg_template = 4.00 #350 means logg=3.5\n",
    "flt = float(f'{logg_template}')*100\n",
    "logg_template= f'{flt:.0f}'\n",
    "logg_template\n",
    "\n",
    "temp0 = Spectrum1D.read(star)\n",
    "temp1 = Spectrum1D.read(f'./norm_tlusty/{T_template:.0f}g{logg_template}v2.fits')\n",
    "plot = plot_spectrum([temp0, temp1],\n",
    "              [1,120],\n",
    "              labels=[f'{starname}', rf\"$T_{{eff}} = {T_template}$K\"+\"\\n\"+rf\"$log(g) = {logg_template}$\"],\n",
    "            #   xlims=(3900,5000),\n",
    "              save=f'{starname}_TLUSTY_T{T_template:.0f}_g{logg_template}')"
   ]
  },
  {
   "cell_type": "markdown",
   "metadata": {},
   "source": []
  }
 ],
 "metadata": {
  "kernelspec": {
   "display_name": "Python 3",
   "language": "python",
   "name": "python3"
  },
  "language_info": {
   "codemirror_mode": {
    "name": "ipython",
    "version": 3
   },
   "file_extension": ".py",
   "mimetype": "text/x-python",
   "name": "python",
   "nbconvert_exporter": "python",
   "pygments_lexer": "ipython3",
   "version": "3.10.9"
  }
 },
 "nbformat": 4,
 "nbformat_minor": 2
}
