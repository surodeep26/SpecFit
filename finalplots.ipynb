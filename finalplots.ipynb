{
 "cells": [
  {
   "cell_type": "markdown",
   "metadata": {},
   "source": [
    "# Berkeley_97"
   ]
  },
  {
   "cell_type": "code",
   "execution_count": 1,
   "metadata": {},
   "outputs": [],
   "source": [
    "%run spec_functionsv2\n",
    "%matplotlib qt"
   ]
  },
  {
   "cell_type": "code",
   "execution_count": 55,
   "metadata": {},
   "outputs": [
    {
     "ename": "FileNotFoundError",
     "evalue": "[Errno 2] No such file or directory: './norm_tlusty/16500g350v2.fits'",
     "output_type": "error",
     "traceback": [
      "\u001b[0;31m---------------------------------------------------------------------------\u001b[0m",
      "\u001b[0;31mFileNotFoundError\u001b[0m                         Traceback (most recent call last)",
      "Cell \u001b[0;32mIn[55], line 22\u001b[0m\n\u001b[1;32m     20\u001b[0m \u001b[38;5;66;03m# Plot the spectra\u001b[39;00m\n\u001b[1;32m     21\u001b[0m \u001b[38;5;28;01mfor\u001b[39;00m i, T_template \u001b[38;5;129;01min\u001b[39;00m \u001b[38;5;28menumerate\u001b[39m(temperatures):\n\u001b[0;32m---> 22\u001b[0m     temp_spectrum \u001b[38;5;241m=\u001b[39m \u001b[43mSpectrum1D\u001b[49m\u001b[38;5;241;43m.\u001b[39;49m\u001b[43mread\u001b[49m\u001b[43m(\u001b[49m\u001b[38;5;124;43mf\u001b[39;49m\u001b[38;5;124;43m'\u001b[39;49m\u001b[38;5;124;43m./norm_tlusty/\u001b[39;49m\u001b[38;5;132;43;01m{\u001b[39;49;00m\u001b[43mT_template\u001b[49m\u001b[38;5;132;43;01m:\u001b[39;49;00m\u001b[38;5;124;43m.0f\u001b[39;49m\u001b[38;5;132;43;01m}\u001b[39;49;00m\u001b[38;5;124;43mg\u001b[39;49m\u001b[38;5;132;43;01m{\u001b[39;49;00m\u001b[43mlogg_template\u001b[49m\u001b[38;5;132;43;01m}\u001b[39;49;00m\u001b[38;5;124;43mv2.fits\u001b[39;49m\u001b[38;5;124;43m'\u001b[39;49m\u001b[43m)\u001b[49m\n\u001b[1;32m     23\u001b[0m     temp_spectrum \u001b[38;5;241m=\u001b[39m gaussian_smooth(temp_spectrum, \u001b[38;5;241m150\u001b[39m)\n\u001b[1;32m     24\u001b[0m     ax\u001b[38;5;241m.\u001b[39mplot(temp_spectrum\u001b[38;5;241m.\u001b[39mspectral_axis, temp_spectrum\u001b[38;5;241m.\u001b[39mflux \u001b[38;5;241m+\u001b[39m i\u001b[38;5;241m*\u001b[39m\u001b[38;5;241m0.5\u001b[39m\u001b[38;5;241m*\u001b[39mu\u001b[38;5;241m.\u001b[39mJy, label\u001b[38;5;241m=\u001b[39m\u001b[38;5;124mf\u001b[39m\u001b[38;5;124m'\u001b[39m\u001b[38;5;132;01m{\u001b[39;00mT_template\u001b[38;5;132;01m}\u001b[39;00m\u001b[38;5;124m K\u001b[39m\u001b[38;5;124m'\u001b[39m)\n",
      "File \u001b[0;32m/usr/lib/python3/dist-packages/astropy/nddata/mixins/ndio.py:59\u001b[0m, in \u001b[0;36mNDDataRead.__call__\u001b[0;34m(self, *args, **kwargs)\u001b[0m\n\u001b[1;32m     58\u001b[0m \u001b[38;5;28;01mdef\u001b[39;00m \u001b[38;5;21m__call__\u001b[39m(\u001b[38;5;28mself\u001b[39m, \u001b[38;5;241m*\u001b[39margs, \u001b[38;5;241m*\u001b[39m\u001b[38;5;241m*\u001b[39mkwargs):\n\u001b[0;32m---> 59\u001b[0m     \u001b[38;5;28;01mreturn\u001b[39;00m \u001b[38;5;28;43mself\u001b[39;49m\u001b[38;5;241;43m.\u001b[39;49m\u001b[43mregistry\u001b[49m\u001b[38;5;241;43m.\u001b[39;49m\u001b[43mread\u001b[49m\u001b[43m(\u001b[49m\u001b[38;5;28;43mself\u001b[39;49m\u001b[38;5;241;43m.\u001b[39;49m\u001b[43m_cls\u001b[49m\u001b[43m,\u001b[49m\u001b[43m \u001b[49m\u001b[38;5;241;43m*\u001b[39;49m\u001b[43margs\u001b[49m\u001b[43m,\u001b[49m\u001b[43m \u001b[49m\u001b[38;5;241;43m*\u001b[39;49m\u001b[38;5;241;43m*\u001b[39;49m\u001b[43mkwargs\u001b[49m\u001b[43m)\u001b[49m\n",
      "File \u001b[0;32m/usr/lib/python3/dist-packages/astropy/io/registry/core.py:202\u001b[0m, in \u001b[0;36mUnifiedInputRegistry.read\u001b[0;34m(self, cls, format, cache, *args, **kwargs)\u001b[0m\n\u001b[1;32m    198\u001b[0m \u001b[38;5;28;01mtry\u001b[39;00m:\n\u001b[1;32m    199\u001b[0m     ctx \u001b[38;5;241m=\u001b[39m get_readable_fileobj(\n\u001b[1;32m    200\u001b[0m         args[\u001b[38;5;241m0\u001b[39m], encoding\u001b[38;5;241m=\u001b[39m\u001b[38;5;124m\"\u001b[39m\u001b[38;5;124mbinary\u001b[39m\u001b[38;5;124m\"\u001b[39m, cache\u001b[38;5;241m=\u001b[39mcache\n\u001b[1;32m    201\u001b[0m     )\n\u001b[0;32m--> 202\u001b[0m     fileobj \u001b[38;5;241m=\u001b[39m \u001b[43mctx\u001b[49m\u001b[38;5;241;43m.\u001b[39;49m\u001b[38;5;21;43m__enter__\u001b[39;49m\u001b[43m(\u001b[49m\u001b[43m)\u001b[49m\n\u001b[1;32m    203\u001b[0m \u001b[38;5;28;01mexcept\u001b[39;00m \u001b[38;5;167;01mOSError\u001b[39;00m:\n\u001b[1;32m    204\u001b[0m     \u001b[38;5;28;01mraise\u001b[39;00m\n",
      "File \u001b[0;32m/usr/lib/python3.11/contextlib.py:137\u001b[0m, in \u001b[0;36m_GeneratorContextManager.__enter__\u001b[0;34m(self)\u001b[0m\n\u001b[1;32m    135\u001b[0m \u001b[38;5;28;01mdel\u001b[39;00m \u001b[38;5;28mself\u001b[39m\u001b[38;5;241m.\u001b[39margs, \u001b[38;5;28mself\u001b[39m\u001b[38;5;241m.\u001b[39mkwds, \u001b[38;5;28mself\u001b[39m\u001b[38;5;241m.\u001b[39mfunc\n\u001b[1;32m    136\u001b[0m \u001b[38;5;28;01mtry\u001b[39;00m:\n\u001b[0;32m--> 137\u001b[0m     \u001b[38;5;28;01mreturn\u001b[39;00m \u001b[38;5;28mnext\u001b[39m(\u001b[38;5;28mself\u001b[39m\u001b[38;5;241m.\u001b[39mgen)\n\u001b[1;32m    138\u001b[0m \u001b[38;5;28;01mexcept\u001b[39;00m \u001b[38;5;167;01mStopIteration\u001b[39;00m:\n\u001b[1;32m    139\u001b[0m     \u001b[38;5;28;01mraise\u001b[39;00m \u001b[38;5;167;01mRuntimeError\u001b[39;00m(\u001b[38;5;124m\"\u001b[39m\u001b[38;5;124mgenerator didn\u001b[39m\u001b[38;5;124m'\u001b[39m\u001b[38;5;124mt yield\u001b[39m\u001b[38;5;124m\"\u001b[39m) \u001b[38;5;28;01mfrom\u001b[39;00m \u001b[38;5;28;01mNone\u001b[39;00m\n",
      "File \u001b[0;32m/usr/lib/python3/dist-packages/astropy/utils/data.py:351\u001b[0m, in \u001b[0;36mget_readable_fileobj\u001b[0;34m(name_or_obj, encoding, cache, show_progress, remote_timeout, sources, http_headers, use_fsspec, fsspec_kwargs, close_files)\u001b[0m\n\u001b[1;32m    342\u001b[0m \u001b[38;5;28;01mif\u001b[39;00m is_url:\n\u001b[1;32m    343\u001b[0m     name_or_obj \u001b[38;5;241m=\u001b[39m download_file(\n\u001b[1;32m    344\u001b[0m         name_or_obj,\n\u001b[1;32m    345\u001b[0m         cache\u001b[38;5;241m=\u001b[39mcache,\n\u001b[0;32m   (...)\u001b[0m\n\u001b[1;32m    349\u001b[0m         http_headers\u001b[38;5;241m=\u001b[39mhttp_headers,\n\u001b[1;32m    350\u001b[0m     )\n\u001b[0;32m--> 351\u001b[0m fileobj \u001b[38;5;241m=\u001b[39m \u001b[43mio\u001b[49m\u001b[38;5;241;43m.\u001b[39;49m\u001b[43mFileIO\u001b[49m\u001b[43m(\u001b[49m\u001b[43mname_or_obj\u001b[49m\u001b[43m,\u001b[49m\u001b[43m \u001b[49m\u001b[38;5;124;43m\"\u001b[39;49m\u001b[38;5;124;43mr\u001b[39;49m\u001b[38;5;124;43m\"\u001b[39;49m\u001b[43m)\u001b[49m\n\u001b[1;32m    352\u001b[0m \u001b[38;5;28;01mif\u001b[39;00m is_url \u001b[38;5;129;01mand\u001b[39;00m \u001b[38;5;129;01mnot\u001b[39;00m cache:\n\u001b[1;32m    353\u001b[0m     delete_fds\u001b[38;5;241m.\u001b[39mappend(fileobj)\n",
      "\u001b[0;31mFileNotFoundError\u001b[0m: [Errno 2] No such file or directory: './norm_tlusty/16500g350v2.fits'"
     ]
    }
   ],
   "source": [
    "plt.rcParams[\"font.family\"] = \"Palatino\"\n",
    "plt.rcParams[\"font.size\"] = 40\n",
    "plt.rcParams['figure.subplot.top'] = 0.99\n",
    "plt.rcParams['figure.subplot.bottom'] = 0.075\n",
    "plt.rcParams['figure.subplot.left'] = 0.06\n",
    "plt.rcParams['figure.subplot.right'] = 0.975\n",
    "fig,ax = plt.subplots(figsize=(25,20))\n",
    "ax.set_xlabel(r'Wavelength $\\AA$')\n",
    "ax.set_ylabel(r'Normalised Flux (+ constant) ')\n",
    "ax.set_xlim(3500,7500)\n",
    "\n",
    "T_template = 15000\n",
    "logg_template = 350\n",
    "temp1 = Spectrum1D.read(f'./norm_tlusty/{T_template:.0f}g{logg_template}v2.fits')\n",
    "temp1 = gaussian_smooth(temp1,150)\n",
    "ax.plot(temp1.spectral_axis, temp1.flux)\n",
    "\n",
    "\n",
    "T_template = 17000\n",
    "logg_template = 350\n",
    "temp1 = Spectrum1D.read(f'./norm_tlusty/{T_template:.0f}g{logg_template}v2.fits')\n",
    "temp1 = gaussian_smooth(temp1,150)\n",
    "ax.plot(temp1.spectral_axis, temp1.flux+0.5*u.Jy)\n",
    "\n"
   ]
  },
  {
   "cell_type": "code",
   "execution_count": 66,
   "metadata": {},
   "outputs": [],
   "source": [
    "#TLUSTY\n",
    "import matplotlib.pyplot as plt\n",
    "from astropy.visualization import quantity_support\n",
    "from specutils import Spectrum1D\n",
    "from specutils.manipulation import gaussian_smooth\n",
    "import astropy.units as u\n",
    "\n",
    "# Set plotting parameters\n",
    "plt.rcParams[\"font.family\"] = \"Palatino\"\n",
    "plt.rcParams[\"font.size\"] = 40\n",
    "plt.rcParams['figure.subplot.top'] = 0.99\n",
    "plt.rcParams['figure.subplot.bottom'] = 0.075\n",
    "plt.rcParams['figure.subplot.left'] = 0.06\n",
    "plt.rcParams['figure.subplot.right'] = 0.975\n",
    "\n",
    "# Enable quantity support for better plotting of units\n",
    "quantity_support()\n",
    "\n",
    "# Create the figure and axis\n",
    "fig, ax = plt.subplots(figsize=(25, 20))\n",
    "ax.set_xlabel(r'Wavelength ($\\AA$)')\n",
    "ax.set_ylabel(r'Normalised Flux (+ constant)')\n",
    "ax.set_xlim(3500, 7500)\n",
    "\n",
    "# Define the temperature range and step\n",
    "temperatures = range(15000, 31000, 3000)\n",
    "logg_template = 400\n",
    "\n",
    "# Plot the spectra\n",
    "for i, T_template in enumerate(temperatures):\n",
    "    temp_spectrum = Spectrum1D.read(f'./norm_tlusty/{T_template:.0f}g{logg_template}v2.fits')\n",
    "    temp_spectrum = gaussian_smooth(temp_spectrum, 50)\n",
    "    # Plot the spectrum with an offset\n",
    "    ax.plot(temp_spectrum.spectral_axis, temp_spectrum.flux + i*0.4*u.Jy)\n",
    "    \n",
    "    # Add a temperature label on the right top of each spectrum\n",
    "    ax.text(7000, temp_spectrum.flux.max().value + i*0.4 + 0.1, f'{T_template} K', \n",
    "            verticalalignment='top', horizontalalignment='left')\n",
    "\n",
    "# Show the plot\n",
    "plt.show()\n"
   ]
  },
  {
   "cell_type": "code",
   "execution_count": null,
   "metadata": {},
   "outputs": [],
   "source": [
    "#KURUCZ\n",
    "\n",
    "import matplotlib.pyplot as plt\n",
    "from astropy.visualization import quantity_support\n",
    "from specutils import Spectrum1D\n",
    "from specutils.manipulation import gaussian_smooth\n",
    "import astropy.units as u\n",
    "\n",
    "# Set plotting parameters\n",
    "plt.rcParams[\"font.family\"] = \"Palatino\"\n",
    "plt.rcParams[\"font.size\"] = 40\n",
    "plt.rcParams['figure.subplot.top'] = 0.99\n",
    "plt.rcParams['figure.subplot.bottom'] = 0.075\n",
    "plt.rcParams['figure.subplot.left'] = 0.06\n",
    "plt.rcParams['figure.subplot.right'] = 0.975\n",
    "\n",
    "# Enable quantity support for better plotting of units\n",
    "quantity_support()\n",
    "\n",
    "# Create the figure and axis\n",
    "fig, ax = plt.subplots(figsize=(25, 20))\n",
    "ax.set_xlabel(r'Wavelength ($\\AA$)')\n",
    "ax.set_ylabel(r'Normalised Flux (+ constant)')\n",
    "ax.set_xlim(3500, 7500)\n",
    "\n",
    "# Define the temperature range and step\n",
    "temperatures = range(15000, 31000, 3000)\n",
    "logg_template = 400\n",
    "\n",
    "# Plot the spectra\n",
    "for i, T_template in enumerate(temperatures):\n",
    "    temp_spectrum = Spectrum1D.read(f'./norm_tlusty/{T_template:.0f}g{logg_template}v2.fits')\n",
    "    temp_spectrum = gaussian_smooth(temp_spectrum, 50)\n",
    "    # Plot the spectrum with an offset\n",
    "    ax.plot(temp_spectrum.spectral_axis, temp_spectrum.flux + i*0.4*u.Jy)\n",
    "    \n",
    "    # Add a temperature label on the right top of each spectrum\n",
    "    ax.text(7000, temp_spectrum.flux.max().value + i*0.4 + 0.1, f'{T_template} K', \n",
    "            verticalalignment='top', horizontalalignment='left')\n",
    "\n",
    "# Show the plot\n",
    "plt.show()\n"
   ]
  },
  {
   "cell_type": "markdown",
   "metadata": {},
   "source": [
    "# RSG_8"
   ]
  },
  {
   "cell_type": "code",
   "execution_count": 35,
   "metadata": {},
   "outputs": [
    {
     "name": "stdout",
     "output_type": "stream",
     "text": [
      "A pdf for the star exists\n",
      "Deleted existing file: ./observed_stars/HD217348_TLUSTY_T15000_g325.pdf\n",
      "Saved new file: ./observed_stars/HD217348_TLUSTY_T15000_g350.pdf\n"
     ]
    }
   ],
   "source": [
    "%run spec_functionsv2\n",
    "%matplotlib qt\n",
    "starname = config['RSG_8']['HD 217348']['name']\n",
    "\n",
    "star          = f'./observed_stars/v{starname}i.fits'\n",
    "T_template    = config['RSG_8']['HD 217348']['T']\n",
    "logg_template = config['RSG_8']['HD 217348']['logg'] #350 means logg=3.5\n",
    "flt = float(f'{logg_template}')*100\n",
    "logg_template= f'{flt:.0f}'\n",
    "logg_template\n",
    "\n",
    "temp0 = Spectrum1D.read(star)\n",
    "temp1 = Spectrum1D.read(f'./norm_tlusty/{T_template:.0f}g{logg_template}v2.fits')\n",
    "plot = plot_spectrum([temp0, temp1],\n",
    "              [1,50],\n",
    "            #   labels=[f'{starname}', rf\"$T_{{eff}} = {T_template}$K\"+\"\\n\"+rf\"$log(g) = {float(logg_template)/100:.2f}$\"],\n",
    "              labels=[f'{starname}', rf\"$T_{{eff}} = {T_template}$K\"+rf\"    $log(g) = {float(logg_template)/100:.2f}$\"],\n",
    "            #   xlims=(3900,5000),\n",
    "              save=f'{starname}_TLUSTY_T{T_template:.0f}_g{logg_template}')"
   ]
  },
  {
   "cell_type": "markdown",
   "metadata": {},
   "source": [
    "# Basel_8"
   ]
  },
  {
   "cell_type": "code",
   "execution_count": 42,
   "metadata": {},
   "outputs": [],
   "source": [
    "%run spec_functionsv2\n",
    "%matplotlib qt"
   ]
  },
  {
   "cell_type": "code",
   "execution_count": 20,
   "metadata": {},
   "outputs": [
    {
     "data": {
      "text/plain": [
       "'HD259787'"
      ]
     },
     "execution_count": 20,
     "metadata": {},
     "output_type": "execute_result"
    }
   ],
   "source": [
    "star"
   ]
  },
  {
   "cell_type": "code",
   "execution_count": 30,
   "metadata": {},
   "outputs": [
    {
     "data": {
      "text/plain": [
       "'HD259787'"
      ]
     },
     "execution_count": 30,
     "metadata": {},
     "output_type": "execute_result"
    }
   ],
   "source": [
    "star = config['Basel_8']['HD 259787']\n",
    "star['name']"
   ]
  },
  {
   "cell_type": "code",
   "execution_count": 46,
   "metadata": {},
   "outputs": [
    {
     "ename": "FileNotFoundError",
     "evalue": "[Errno 2] No such file or directory: './norm_tlusty/12000g4.0v2.fits'",
     "output_type": "error",
     "traceback": [
      "\u001b[0;31m---------------------------------------------------------------------------\u001b[0m",
      "\u001b[0;31mFileNotFoundError\u001b[0m                         Traceback (most recent call last)",
      "Cell \u001b[0;32mIn[46], line 17\u001b[0m\n\u001b[1;32m     14\u001b[0m logg_template\n\u001b[1;32m     16\u001b[0m temp0 \u001b[38;5;241m=\u001b[39m Spectrum1D\u001b[38;5;241m.\u001b[39mread(star_fits)\n\u001b[0;32m---> 17\u001b[0m temp1 \u001b[38;5;241m=\u001b[39m \u001b[43mSpectrum1D\u001b[49m\u001b[38;5;241;43m.\u001b[39;49m\u001b[43mread\u001b[49m\u001b[43m(\u001b[49m\u001b[38;5;124;43mf\u001b[39;49m\u001b[38;5;124;43m'\u001b[39;49m\u001b[38;5;124;43m./norm_tlusty/\u001b[39;49m\u001b[38;5;132;43;01m{\u001b[39;49;00m\u001b[43mT_template\u001b[49m\u001b[38;5;132;43;01m:\u001b[39;49;00m\u001b[38;5;124;43m.0f\u001b[39;49m\u001b[38;5;132;43;01m}\u001b[39;49;00m\u001b[38;5;124;43mg\u001b[39;49m\u001b[38;5;132;43;01m{\u001b[39;49;00m\u001b[43mlogg_template\u001b[49m\u001b[38;5;132;43;01m}\u001b[39;49;00m\u001b[38;5;124;43mv2.fits\u001b[39;49m\u001b[38;5;124;43m'\u001b[39;49m\u001b[43m)\u001b[49m\n\u001b[1;32m     18\u001b[0m plot \u001b[38;5;241m=\u001b[39m plot_spectrum([temp0, temp1],\n\u001b[1;32m     19\u001b[0m               [\u001b[38;5;241m1\u001b[39m,\u001b[38;5;241m60\u001b[39m],\n\u001b[1;32m     20\u001b[0m             \u001b[38;5;66;03m#   labels=[f'{starname}', rf\"$T_{{eff}} = {T_template}$K\"+\"\\n\"+rf\"$log(g) = {float(logg_template)/100:.2f}$\"],\u001b[39;00m\n\u001b[1;32m     21\u001b[0m               labels\u001b[38;5;241m=\u001b[39m[\u001b[38;5;124mf\u001b[39m\u001b[38;5;124m'\u001b[39m\u001b[38;5;132;01m{\u001b[39;00mstarname\u001b[38;5;132;01m}\u001b[39;00m\u001b[38;5;124m'\u001b[39m, \u001b[38;5;124mrf\u001b[39m\u001b[38;5;124m\"\u001b[39m\u001b[38;5;124m$T_\u001b[39m\u001b[38;5;130;01m{{\u001b[39;00m\u001b[38;5;124meff\u001b[39m\u001b[38;5;130;01m}}\u001b[39;00m\u001b[38;5;124m = \u001b[39m\u001b[38;5;132;01m{\u001b[39;00mT_template\u001b[38;5;132;01m}\u001b[39;00m\u001b[38;5;124m$K\u001b[39m\u001b[38;5;124m\"\u001b[39m\u001b[38;5;241m+\u001b[39m\u001b[38;5;124mrf\u001b[39m\u001b[38;5;124m\"\u001b[39m\u001b[38;5;124m    $log(g) = \u001b[39m\u001b[38;5;132;01m{\u001b[39;00m\u001b[38;5;28mfloat\u001b[39m(logg_template)\u001b[38;5;241m/\u001b[39m\u001b[38;5;241m100\u001b[39m\u001b[38;5;132;01m:\u001b[39;00m\u001b[38;5;124m.2f\u001b[39m\u001b[38;5;132;01m}\u001b[39;00m\u001b[38;5;124m$\u001b[39m\u001b[38;5;124m\"\u001b[39m],\n\u001b[1;32m     22\u001b[0m               \u001b[38;5;66;03m# xlims=(3900,5000),\u001b[39;00m\n\u001b[1;32m     23\u001b[0m               save\u001b[38;5;241m=\u001b[39m\u001b[38;5;124mf\u001b[39m\u001b[38;5;124m'\u001b[39m\u001b[38;5;132;01m{\u001b[39;00mstarname\u001b[38;5;132;01m}\u001b[39;00m\u001b[38;5;124m_TLUSTY_T\u001b[39m\u001b[38;5;132;01m{\u001b[39;00mT_template\u001b[38;5;132;01m:\u001b[39;00m\u001b[38;5;124m.0f\u001b[39m\u001b[38;5;132;01m}\u001b[39;00m\u001b[38;5;124m_g\u001b[39m\u001b[38;5;132;01m{\u001b[39;00mlogg_template\u001b[38;5;132;01m}\u001b[39;00m\u001b[38;5;124m'\u001b[39m)\n",
      "File \u001b[0;32m/usr/lib/python3/dist-packages/astropy/nddata/mixins/ndio.py:59\u001b[0m, in \u001b[0;36mNDDataRead.__call__\u001b[0;34m(self, *args, **kwargs)\u001b[0m\n\u001b[1;32m     58\u001b[0m \u001b[38;5;28;01mdef\u001b[39;00m \u001b[38;5;21m__call__\u001b[39m(\u001b[38;5;28mself\u001b[39m, \u001b[38;5;241m*\u001b[39margs, \u001b[38;5;241m*\u001b[39m\u001b[38;5;241m*\u001b[39mkwargs):\n\u001b[0;32m---> 59\u001b[0m     \u001b[38;5;28;01mreturn\u001b[39;00m \u001b[38;5;28;43mself\u001b[39;49m\u001b[38;5;241;43m.\u001b[39;49m\u001b[43mregistry\u001b[49m\u001b[38;5;241;43m.\u001b[39;49m\u001b[43mread\u001b[49m\u001b[43m(\u001b[49m\u001b[38;5;28;43mself\u001b[39;49m\u001b[38;5;241;43m.\u001b[39;49m\u001b[43m_cls\u001b[49m\u001b[43m,\u001b[49m\u001b[43m \u001b[49m\u001b[38;5;241;43m*\u001b[39;49m\u001b[43margs\u001b[49m\u001b[43m,\u001b[49m\u001b[43m \u001b[49m\u001b[38;5;241;43m*\u001b[39;49m\u001b[38;5;241;43m*\u001b[39;49m\u001b[43mkwargs\u001b[49m\u001b[43m)\u001b[49m\n",
      "File \u001b[0;32m/usr/lib/python3/dist-packages/astropy/io/registry/core.py:202\u001b[0m, in \u001b[0;36mUnifiedInputRegistry.read\u001b[0;34m(self, cls, format, cache, *args, **kwargs)\u001b[0m\n\u001b[1;32m    198\u001b[0m \u001b[38;5;28;01mtry\u001b[39;00m:\n\u001b[1;32m    199\u001b[0m     ctx \u001b[38;5;241m=\u001b[39m get_readable_fileobj(\n\u001b[1;32m    200\u001b[0m         args[\u001b[38;5;241m0\u001b[39m], encoding\u001b[38;5;241m=\u001b[39m\u001b[38;5;124m\"\u001b[39m\u001b[38;5;124mbinary\u001b[39m\u001b[38;5;124m\"\u001b[39m, cache\u001b[38;5;241m=\u001b[39mcache\n\u001b[1;32m    201\u001b[0m     )\n\u001b[0;32m--> 202\u001b[0m     fileobj \u001b[38;5;241m=\u001b[39m \u001b[43mctx\u001b[49m\u001b[38;5;241;43m.\u001b[39;49m\u001b[38;5;21;43m__enter__\u001b[39;49m\u001b[43m(\u001b[49m\u001b[43m)\u001b[49m\n\u001b[1;32m    203\u001b[0m \u001b[38;5;28;01mexcept\u001b[39;00m \u001b[38;5;167;01mOSError\u001b[39;00m:\n\u001b[1;32m    204\u001b[0m     \u001b[38;5;28;01mraise\u001b[39;00m\n",
      "File \u001b[0;32m/usr/lib/python3.11/contextlib.py:137\u001b[0m, in \u001b[0;36m_GeneratorContextManager.__enter__\u001b[0;34m(self)\u001b[0m\n\u001b[1;32m    135\u001b[0m \u001b[38;5;28;01mdel\u001b[39;00m \u001b[38;5;28mself\u001b[39m\u001b[38;5;241m.\u001b[39margs, \u001b[38;5;28mself\u001b[39m\u001b[38;5;241m.\u001b[39mkwds, \u001b[38;5;28mself\u001b[39m\u001b[38;5;241m.\u001b[39mfunc\n\u001b[1;32m    136\u001b[0m \u001b[38;5;28;01mtry\u001b[39;00m:\n\u001b[0;32m--> 137\u001b[0m     \u001b[38;5;28;01mreturn\u001b[39;00m \u001b[38;5;28mnext\u001b[39m(\u001b[38;5;28mself\u001b[39m\u001b[38;5;241m.\u001b[39mgen)\n\u001b[1;32m    138\u001b[0m \u001b[38;5;28;01mexcept\u001b[39;00m \u001b[38;5;167;01mStopIteration\u001b[39;00m:\n\u001b[1;32m    139\u001b[0m     \u001b[38;5;28;01mraise\u001b[39;00m \u001b[38;5;167;01mRuntimeError\u001b[39;00m(\u001b[38;5;124m\"\u001b[39m\u001b[38;5;124mgenerator didn\u001b[39m\u001b[38;5;124m'\u001b[39m\u001b[38;5;124mt yield\u001b[39m\u001b[38;5;124m\"\u001b[39m) \u001b[38;5;28;01mfrom\u001b[39;00m \u001b[38;5;28;01mNone\u001b[39;00m\n",
      "File \u001b[0;32m/usr/lib/python3/dist-packages/astropy/utils/data.py:351\u001b[0m, in \u001b[0;36mget_readable_fileobj\u001b[0;34m(name_or_obj, encoding, cache, show_progress, remote_timeout, sources, http_headers, use_fsspec, fsspec_kwargs, close_files)\u001b[0m\n\u001b[1;32m    342\u001b[0m \u001b[38;5;28;01mif\u001b[39;00m is_url:\n\u001b[1;32m    343\u001b[0m     name_or_obj \u001b[38;5;241m=\u001b[39m download_file(\n\u001b[1;32m    344\u001b[0m         name_or_obj,\n\u001b[1;32m    345\u001b[0m         cache\u001b[38;5;241m=\u001b[39mcache,\n\u001b[0;32m   (...)\u001b[0m\n\u001b[1;32m    349\u001b[0m         http_headers\u001b[38;5;241m=\u001b[39mhttp_headers,\n\u001b[1;32m    350\u001b[0m     )\n\u001b[0;32m--> 351\u001b[0m fileobj \u001b[38;5;241m=\u001b[39m \u001b[43mio\u001b[49m\u001b[38;5;241;43m.\u001b[39;49m\u001b[43mFileIO\u001b[49m\u001b[43m(\u001b[49m\u001b[43mname_or_obj\u001b[49m\u001b[43m,\u001b[49m\u001b[43m \u001b[49m\u001b[38;5;124;43m\"\u001b[39;49m\u001b[38;5;124;43mr\u001b[39;49m\u001b[38;5;124;43m\"\u001b[39;49m\u001b[43m)\u001b[49m\n\u001b[1;32m    352\u001b[0m \u001b[38;5;28;01mif\u001b[39;00m is_url \u001b[38;5;129;01mand\u001b[39;00m \u001b[38;5;129;01mnot\u001b[39;00m cache:\n\u001b[1;32m    353\u001b[0m     delete_fds\u001b[38;5;241m.\u001b[39mappend(fileobj)\n",
      "\u001b[0;31mFileNotFoundError\u001b[0m: [Errno 2] No such file or directory: './norm_tlusty/12000g4.0v2.fits'"
     ]
    }
   ],
   "source": [
    "#TLUSTY\n",
    "%run spec_functionsv2\n",
    "%matplotlib qt\n",
    "\n",
    "star = config['RSG_8']['HD 240113']\n",
    "starname = star['name']\n",
    "\n",
    "star_fits          = f'./observed_stars/v{starname}i.fits'\n",
    "T_template    = star['T']\n",
    "logg_template = star['logg'] #350 means logg=3.5\n",
    "flt = float(f'{logg_template}')*100\n",
    "if T_template>=15000:\n",
    "  logg_template= f'{flt:.0f}'\n",
    "logg_template\n",
    "\n",
    "temp0 = Spectrum1D.read(star_fits)\n",
    "temp1 = Spectrum1D.read(f'./norm_tlusty/{T_template:.0f}g{logg_template}v2.fits')\n",
    "plot = plot_spectrum([temp0, temp1],\n",
    "              [1,60],\n",
    "            #   labels=[f'{starname}', rf\"$T_{{eff}} = {T_template}$K\"+\"\\n\"+rf\"$log(g) = {float(logg_template)/100:.2f}$\"],\n",
    "              labels=[f'{starname}', rf\"$T_{{eff}} = {T_template}$K\"+rf\"    $log(g) = {float(logg_template)/100:.2f}$\"],\n",
    "              # xlims=(3900,5000),\n",
    "              save=f'{starname}_TLUSTY_T{T_template:.0f}_g{logg_template}')"
   ]
  },
  {
   "cell_type": "code",
   "execution_count": 50,
   "metadata": {},
   "outputs": [
    {
     "name": "stdout",
     "output_type": "stream",
     "text": [
      "A pdf for the star exists\n",
      "Deleted existing file: ./observed_stars/HD240113_Kurucz_T12000_g4.00.pdf\n",
      "Saved new file: ./observed_stars/HD240113_Kurucz_T12000_g4.00.pdf\n"
     ]
    }
   ],
   "source": [
    "#KURUCZ\n",
    "%run spec_functionsv2\n",
    "%matplotlib qt\n",
    "\n",
    "star = config['RSG_8']['HD 240113']\n",
    "\n",
    "starname = star['name']\n",
    "\n",
    "star_fits          = f'./observed_stars/v{starname}i.fits'\n",
    "T_template    = star['T']\n",
    "logg_template = star['logg']\n",
    "\n",
    "\n",
    "temp0 = Spectrum1D.read(star_fits)\n",
    "temp1 = Spectrum1D.read(f'./Kuruczall/{T_template}_{logg_template:.5f}.fits')\n",
    "plot = plot_spectrum([temp0, temp1],\n",
    "              [1,2],\n",
    "              labels=[f'{starname}', rf\"$T_{{eff}} = {T_template}$K\"+rf\"    $log(g) = {logg_template:.2f}$\"],\n",
    "              xlims=(4000,5000),\n",
    "              save=f'{starname}_Kurucz_T{T_template:.0f}_g{logg_template:.2f}'\n",
    "              )"
   ]
  }
 ],
 "metadata": {
  "kernelspec": {
   "display_name": "Python 3",
   "language": "python",
   "name": "python3"
  },
  "language_info": {
   "codemirror_mode": {
    "name": "ipython",
    "version": 3
   },
   "file_extension": ".py",
   "mimetype": "text/x-python",
   "name": "python",
   "nbconvert_exporter": "python",
   "pygments_lexer": "ipython3",
   "version": "3.11.6"
  }
 },
 "nbformat": 4,
 "nbformat_minor": 2
}
