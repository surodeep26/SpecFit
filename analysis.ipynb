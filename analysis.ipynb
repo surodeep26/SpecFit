{
 "cells": [
  {
   "cell_type": "code",
   "execution_count": 1,
   "metadata": {},
   "outputs": [
    {
     "name": "stderr",
     "output_type": "stream",
     "text": [
      "C:\\Users\\sheth\\SpecFit\\spec_functionsv2.py:126: SyntaxWarning: invalid escape sequence '\\l'\n",
      "  ax.text(0.95, 0.05, f'Temperature: {temperature} K\\n $\\log{{g}}$: {gravity/100} dex \\n RV: {radial_velocity} km/s',\n",
      "C:\\Users\\sheth\\SpecFit\\spec_functionsv2.py:270: SyntaxWarning: invalid escape sequence '\\l'\n",
      "  ax.text(0.95, 0.05, f'Temperature: {temperature} K\\n $\\log{{g}}$: {gravity/100} dex \\n RV: {radial_velocity} km/s',\n"
     ]
    }
   ],
   "source": [
    "%run spec_functionsv2"
   ]
  },
  {
   "cell_type": "code",
   "execution_count": 2,
   "metadata": {},
   "outputs": [],
   "source": [
    "starname = 'TYC3997-1510-1'\n",
    "\n",
    "star          = f'./observed_stars/v{starname}i.fits'\n",
    "T_template    = 12000\n",
    "logg_template = 2.5 #350 means logg=3.5\n",
    "\n",
    "\n",
    "observed_spectrum = Spectrum1D.read(star)\n",
    "observed_spectrum = Spectrum1D(spectral_axis=observed_spectrum.spectral_axis,\n",
    "                               flux=observed_spectrum.flux*u.Jy)\n",
    "spectral_template = Spectrum1D.read(f'./Kuruczall/{T_template}_{logg_template:.5f}.fits')\n",
    "spectral_template = Spectrum1D(spectral_axis=spectral_template.spectral_axis,\n",
    "                               flux=spectral_template.flux*u.Jy)"
   ]
  },
  {
   "cell_type": "code",
   "execution_count": null,
   "metadata": {},
   "outputs": [],
   "source": [
    "from specutils.analysis import correlation\n",
    "size = 200\n",
    "spec_axis = np.linspace(4500., 6500., num=size) * u.AA\n",
    "f1 = np.random.randn(size)*0.5 * u.Jy\n",
    "f2 = np.random.randn(size)*0.5 * u.Jy\n",
    "rest_value = 6000. * u.AA\n",
    "mean1 = 5035. * u.AA\n",
    "mean2 = 5015. * u.AA\n",
    "g1 = models.Gaussian1D(amplitude=30 * u.Jy, mean=mean1, stddev=10. * u.AA)\n",
    "g2 = models.Gaussian1D(amplitude=30 * u.Jy, mean=mean2, stddev=10. * u.AA)\n",
    "flux1 = f1 + g1(spec_axis)\n",
    "flux2 = f2 + g2(spec_axis)\n",
    "uncertainty = StdDevUncertainty(0.2*np.ones(size)*u.Jy)\n",
    "ospec = Spectrum1D(spectral_axis=spec_axis, flux=flux1, uncertainty=uncertainty, velocity_convention='optical', rest_value=rest_value)\n",
    "tspec = Spectrum1D(spectral_axis=spec_axis, flux=flux2, uncertainty=uncertainty)\n",
    "corr, lag = correlation.template_correlate(ospec, tspec)"
   ]
  }
 ],
 "metadata": {
  "kernelspec": {
   "display_name": "Python 3",
   "language": "python",
   "name": "python3"
  },
  "language_info": {
   "codemirror_mode": {
    "name": "ipython",
    "version": 3
   },
   "file_extension": ".py",
   "mimetype": "text/x-python",
   "name": "python",
   "nbconvert_exporter": "python",
   "pygments_lexer": "ipython3",
   "version": "3.12.2"
  }
 },
 "nbformat": 4,
 "nbformat_minor": 2
}
